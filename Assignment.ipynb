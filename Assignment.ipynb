{
  "nbformat": 4,
  "nbformat_minor": 0,
  "metadata": {
    "colab": {
      "provenance": [],
      "collapsed_sections": []
    },
    "kernelspec": {
      "name": "python3",
      "display_name": "Python 3"
    },
    "language_info": {
      "name": "python"
    },
    "accelerator": "GPU",
    "gpuClass": "standard"
  },
  "cells": [
    {
      "cell_type": "code",
      "source": [
        "!apt update\n",
        "#!apt upgrade -y\n",
        "!uname -m && cat /etc/*release\n",
        "!gcc --version\n",
        "!uname -r\n"
      ],
      "metadata": {
        "id": "cQABDNoXh3kS"
      },
      "execution_count": null,
      "outputs": []
    },
    {
      "cell_type": "code",
      "execution_count": null,
      "metadata": {
        "id": "9qD2SYdUnMh5"
      },
      "outputs": [],
      "source": [
        "#Installing Darknet\n",
        "!git clone https://github.com/AlexeyAB/darknet\n"
      ]
    },
    {
      "cell_type": "code",
      "source": [
        "#Activating CUDA and GPU\n",
        "%cd /content/darknet/\n",
        "!sed -i 's/OPENCV=0/OPENCV=1/g' Makefile\n",
        "!sed -i 's/GPU=0/GPU=1/g' Makefile\n",
        "!sed -i 's/CUDNN_HALF=0/CUDNN_HALF=1/g' Makefile\n",
        "!sed -i 's/CUDNN=0/CUDNN=1/g' Makefile\n",
        "!apt update\n",
        "!apt-get install libopencv-dev"
      ],
      "metadata": {
        "id": "NWrEp3u_og0O"
      },
      "execution_count": null,
      "outputs": []
    },
    {
      "cell_type": "code",
      "source": [
        "!/usr/local/cuda/bin/nvcc --version"
      ],
      "metadata": {
        "id": "yBcUSACgp6AC"
      },
      "execution_count": null,
      "outputs": []
    },
    {
      "cell_type": "code",
      "source": [
        "!make"
      ],
      "metadata": {
        "id": "4yMSdjE-jLA-"
      },
      "execution_count": null,
      "outputs": []
    },
    {
      "cell_type": "code",
      "source": [
        "#Checking whether the GPU is installed.\n",
        "!nvidia-smi"
      ],
      "metadata": {
        "id": "ml8Rr0JriPTV"
      },
      "execution_count": null,
      "outputs": []
    },
    {
      "cell_type": "code",
      "source": [
        "#Upload yolov4.weights\n",
        "!wget https://github.com/AlexeyAB/darknet/releases/download/darknet_yolo_v3_optimal/yolov4.weights"
      ],
      "metadata": {
        "id": "fVPzA60xrt8B"
      },
      "execution_count": null,
      "outputs": []
    },
    {
      "cell_type": "code",
      "source": [
        "#Activating Helper Functions(These three functions are helper functions that will allow you to show the image in your Colab Notebook after running your detections, as well as upload and download images to and from your Cloud VM.)\n",
        "def imShow(path):\n",
        "  import cv2\n",
        "  import matplotlib.pyplot as plt\n",
        "  %matplotlib inline\n",
        "\n",
        "  image = cv2.imread(path)\n",
        "  height, width = image.shape[:2]\n",
        "  resized_image = cv2.resize(image,(3*width, 3*height), interpolation = cv2.INTER_CUBIC)\n",
        "\n",
        "  fig = plt.gcf()\n",
        "  fig.set_size_inches(18, 10)\n",
        "  plt.axis(\"off\")\n",
        "  plt.imshow(cv2.cvtColor(resized_image, cv2.COLOR_BGR2RGB))\n",
        "  plt.show()\n",
        "\n",
        "# use this to upload files\n",
        "def upload():\n",
        "  from google.colab import files\n",
        "  uploaded = files.upload() \n",
        "  for name, data in uploaded.items():\n",
        "    with open(name, 'wb') as f:\n",
        "      f.write(data)\n",
        "      print ('saved file', name)\n",
        "\n",
        "# use this to download a file  \n",
        "def download(path):\n",
        "  from google.colab import files\n",
        "  files.download(path)"
      ],
      "metadata": {
        "id": "u_XO2qkw4kNZ"
      },
      "execution_count": null,
      "outputs": []
    },
    {
      "cell_type": "code",
      "source": [
        "from google.colab import drive\n",
        "drive.mount('/content/gdrive')\n",
        "\n",
        "!unzip /content/gdrive/MyDrive/visdrone_data/VisDrone2019-DET-train.zip -d /content/darknet/data\n",
        "\n",
        "\n"
      ],
      "metadata": {
        "id": "QrlOKmMoAzwv"
      },
      "execution_count": null,
      "outputs": []
    },
    {
      "cell_type": "code",
      "source": [
        "%cd /content/darknet/data\n",
        "!mv VisDrone2019-DET-train Train"
      ],
      "metadata": {
        "id": "G3QijfvMtc_V"
      },
      "execution_count": null,
      "outputs": []
    },
    {
      "cell_type": "code",
      "source": [
        "!cp /content/gdrive/MyDrive/visdrone_data/yolov4.conv.137 /content/darknet/\n",
        "!cp /content/gdrive/MyDrive/visdrone_data/yolov4_VisDrone_Train.cfg /content/darknet/cfg/\n",
        "!cp /content/gdrive/MyDrive/visdrone_data/yolov4_VisDrone_Test.cfg /content/darknet/cfg/\n",
        "\n",
        "\n"
      ],
      "metadata": {
        "id": "c4P3zU4xyaX5"
      },
      "execution_count": null,
      "outputs": []
    },
    {
      "cell_type": "code",
      "source": [
        "import os\n",
        "from pathlib import Path\n",
        "import PIL\n",
        "from PIL import Image\n",
        "\n",
        "# Get the list of all files and directories\n",
        "# in the root directory\n",
        "path1 = \"/content/darknet/data/Train/images/\"\n",
        "path2 = \"/content/darknet/data/Train/annotations/\"\n",
        "\n",
        "dir_list = os.listdir(path1)\n",
        "d2 = os.listdir(path2)\n",
        "\n",
        "for image in dir_list:\n",
        "    img_path = str(path1 + str(image))\n",
        "    # print(img_path)\n",
        "    img = PIL.Image.open(img_path)\n",
        "    wx, hx = img.size\n",
        "    temp = \"/content/darknet/data/Train\"+\"/annotations/\" + str(image)\n",
        "    pstring = temp.replace('.jpg', '.txt')\n",
        "    file = Path(pstring)\n",
        "    print(file)\n",
        "    input_lines = file.read_text().split('\\n')\n",
        "    input_lines.pop();\n",
        "\n",
        "    ouput_lines = []\n",
        "\n",
        "    for input_line in input_lines:\n",
        "        input_line = input_line.split(',')\n",
        "        if int(input_line[4]):\n",
        "            x = int(input_line[0])\n",
        "            y = int(input_line[1])\n",
        "            w = int(input_line[2])\n",
        "            h = int(input_line[3])\n",
        "            xc = x + w / 2\n",
        "            yc = y + h / 2\n",
        "            xc /= wx\n",
        "            yc /= hx\n",
        "            w /= wx\n",
        "            h /= hx\n",
        "            ouput_lines.append(' '.join(\n",
        "                [input_line[5]] + [str(format(xc, \".4f\"))] + [str(format(yc, \".4f\"))] + [str(format(w, \".4f\"))] + [\n",
        "                    str(format(h, \".4f\"))]))\n",
        "    temp = \"/content/darknet/data/Train\"+\"/images/\" + str(image)\n",
        "    pstring = temp.replace('.jpg', '.txt')\n",
        "    file = Path(pstring)\n",
        "    file.write_text('\\n'.join(ouput_lines))\n"
      ],
      "metadata": {
        "id": "XU7-0Ev-Glbc"
      },
      "execution_count": null,
      "outputs": []
    },
    {
      "cell_type": "code",
      "source": [
        "# Creating files train.txt and test.txt\n",
        "# for training in Darknet framework\n",
        "#\n",
        "# Algorithm:\n",
        "# Setting up full path --> List of paths -->\n",
        "# --> Extracting 15% of paths to save into test.txt file -->\n",
        "# --> Writing paths into train and test txt files\n",
        "#\n",
        "# Result:\n",
        "# Files train.txt and test.txt with full paths to images\n",
        "\n",
        "\n",
        "import os\n",
        "\n",
        "\n",
        "\"\"\"\n",
        "Start of:\n",
        "Setting up full path to directory with VisDrone images\n",
        "\"\"\"\n",
        "\n",
        "full_path_to_images = '/content/darknet/data/Train/images'\n",
        "\n",
        "\"\"\"\n",
        "End of:\n",
        "Setting up full path to directory with VisDrone images\n",
        "\"\"\"\n",
        "\n",
        "\n",
        "\"\"\"\n",
        "Start of:\n",
        "Getting list of full paths to downloaded images\n",
        "\"\"\"\n",
        "\n",
        "# Changing the current directory\n",
        "# to one with images\n",
        "os.chdir(full_path_to_images)\n",
        "\n",
        "# Defining list to write paths in\n",
        "p = []\n",
        "\n",
        "# Using os.walk for going through all directories\n",
        "# and files in them from the current directory\n",
        "# Fullstop in os.walk('.') means the current directory\n",
        "for current_dir, dirs, files in os.walk('.'):\n",
        "    # Going through all files\n",
        "    for f in files:\n",
        "        # Checking if filename ends with '.jpg'\n",
        "        if f.endswith('.jpg'):\n",
        "            # Preparing path to save into train.txt file\n",
        "            \n",
        "            path_to_save_into_txt_files = full_path_to_images + '/' + f\n",
        "\n",
        "            # Appending the line into the list\n",
        "            # We use here '\\n' to move to the next line\n",
        "            # when writing lines into txt files\n",
        "            p.append(path_to_save_into_txt_files + '\\n')\n",
        "\n",
        "\n",
        "# Slicing first 15% of elements from the list\n",
        "# to write into the test.txt file\n",
        "p_test = p[:int(len(p) * 0.15)]\n",
        "\n",
        "# Deleting from initial list first 15% of elements\n",
        "p = p[int(len(p) * 0.15):]\n",
        "\n",
        "\"\"\"\n",
        "End of:\n",
        "Getting list of full paths to downloaded images\n",
        "\"\"\"\n",
        "\n",
        "\n",
        "\"\"\"\n",
        "Start of:\n",
        "Creating train.txt and test.txt files\n",
        "\"\"\"\n",
        "\n",
        "# Creating file train.txt and writing 85% of lines in it\n",
        "with open('/content/darknet/data/train.txt', 'w') as train_txt:\n",
        "    # Going through all elements of the list\n",
        "    for e in p:\n",
        "        # Writing current path at the end of the file\n",
        "        train_txt.write(e)\n",
        "\n",
        "# Creating file test.txt and writing 15% of lines in it\n",
        "with open('/content/darknet/data/test.txt', 'w') as test_txt:\n",
        "    # Going through all elements of the list\n",
        "    for e in p_test:\n",
        "        # Writing current path at the end of the file\n",
        "        test_txt.write(e)\n",
        "\n",
        "\"\"\"\n",
        "End of:\n",
        "Creating train.txt and test.txt files\n",
        "\"\"\"\n"
      ],
      "metadata": {
        "id": "_YwedjpaHr64"
      },
      "execution_count": null,
      "outputs": []
    },
    {
      "cell_type": "code",
      "source": [
        "!cp /content/gdrive/MyDrive/visdrone_data/Classes.txt /content/darknet/data/Train/images"
      ],
      "metadata": {
        "id": "EQ8kW7dWu_rr"
      },
      "execution_count": null,
      "outputs": []
    },
    {
      "cell_type": "code",
      "source": [
        "# Creating files VisDrone.data and classes.names\n",
        "# for training in Darknet framework\n",
        "#Create a classes.txt  and classes.names file beforehand\n",
        "# Algorithm:\n",
        "# Setting up full path --> Reading file classes.txt -->\n",
        "# --> Creating file classes.names -->\n",
        "# --> Creating file ts_data.data\n",
        "#\n",
        "# Result:\n",
        "# Files classes.names and ts_data.data needed to train\n",
        "# in Darknet framework\n",
        "\n",
        "\n",
        "\"\"\"\n",
        "Start of:\n",
        "Setting up full path to directory with VisDrone images\n",
        "\"\"\"\n",
        "\n",
        "full_path_to_images = '/content/darknet/data/Train/images'\n",
        "\n",
        "\"\"\"\n",
        "End of:\n",
        "Setting up full path to directory with VisDrone images\n",
        "\"\"\"\n",
        "\n",
        "\n",
        "\"\"\"\n",
        "Start of:\n",
        "Creating file classes.names\n",
        "\"\"\"\n",
        "\n",
        "# Defining counter for classes\n",
        "c = 0\n",
        "\n",
        "\n",
        "with open('/content/darknet/data' + '/' + 'classes.names', 'w') as names, \\\n",
        "     open(full_path_to_images + '/' + 'Classes.txt', 'r') as txt:\n",
        "\n",
        "    # Going through all lines in txt file and writing them into names file\n",
        "    for line in txt:\n",
        "        names.write(line)  # Copying all info from file txt to names\n",
        "\n",
        "        # Increasing counter\n",
        "        c += 1\n",
        "\n",
        "\"\"\"\n",
        "End of:\n",
        "Creating file classes.names\n",
        "\"\"\"\n",
        "\n",
        "\n",
        "\"\"\"\n",
        "Start of:\n",
        "Creating file VisDrone.data\n",
        "\"\"\"\n",
        "\n",
        "with open('/content/darknet/cfg' + '/' + 'VisDrone.data', 'w') as data:\n",
        "    # Writing needed 5 lines\n",
        "    # Number of classes\n",
        "    # By using '\\n' we move to the next line\n",
        "    data.write('classes = ' + str(c) + '\\n')\n",
        "\n",
        "    # Location of the train.txt file\n",
        "    data.write('train = data/train.txt' + '\\n')\n",
        "\n",
        "    # Location of the test.txt file\n",
        "    data.write('valid = data/test.txt' + '\\n')\n",
        "\n",
        "    # Location of the classes.names file\n",
        "    data.write('names = data/classes.names' + '\\n')\n",
        "\n",
        "    # Location where to save weights\n",
        "    data.write('backup = backup')\n",
        "\n",
        "\"\"\"\n",
        "End of:\n",
        "Creating file VisDrone.data\n",
        "\"\"\"\n"
      ],
      "metadata": {
        "id": "DIubY1lYMH0l"
      },
      "execution_count": null,
      "outputs": []
    },
    {
      "cell_type": "code",
      "source": [
        "#Training the data with the custom trained weights\n",
        "\n",
        "!./darknet detector train cfg/VisDrone.data cfg/yolov4_VisDrone_Train.cfg yolov4.conv.137 -dont_show\n",
        "\n"
      ],
      "metadata": {
        "id": "oW8labL2NpuK"
      },
      "execution_count": null,
      "outputs": []
    },
    {
      "cell_type": "code",
      "source": [
        "%cd /content/darknet/\n",
        "!./darknet detector test cfg/VisDrone.data cfg/yolov4_VisDrone_Test.cfg /content/gdrive/MyDrive/visdrone_data/yolov4_VisDrone_Train_final.weights /content/gdrive/MyDrive/visdrone_data/0000001_02999_d_0000005.jpg"
      ],
      "metadata": {
        "id": "Z_O-9R-6qLaV"
      },
      "execution_count": null,
      "outputs": []
    }
  ]
}